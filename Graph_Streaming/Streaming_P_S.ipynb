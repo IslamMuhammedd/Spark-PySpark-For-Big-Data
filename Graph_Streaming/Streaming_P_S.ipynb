{
  "cells": [
    {
      "cell_type": "code",
      "execution_count": 2,
      "id": "60f97978",
      "metadata": {
        "colab": {
          "base_uri": "https://localhost:8080/"
        },
        "id": "60f97978",
        "outputId": "967e4b37-dc57-4c9c-f91a-124fc3a09656"
      },
      "outputs": [
        {
          "output_type": "stream",
          "name": "stdout",
          "text": [
            "Looking in indexes: https://pypi.org/simple, https://us-python.pkg.dev/colab-wheels/public/simple/\n",
            "Collecting pyspark\n",
            "  Downloading pyspark-3.3.0.tar.gz (281.3 MB)\n",
            "\u001b[K     |████████████████████████████████| 281.3 MB 46 kB/s \n",
            "\u001b[?25hCollecting py4j==0.10.9.5\n",
            "  Downloading py4j-0.10.9.5-py2.py3-none-any.whl (199 kB)\n",
            "\u001b[K     |████████████████████████████████| 199 kB 31.8 MB/s \n",
            "\u001b[?25hBuilding wheels for collected packages: pyspark\n",
            "  Building wheel for pyspark (setup.py) ... \u001b[?25l\u001b[?25hdone\n",
            "  Created wheel for pyspark: filename=pyspark-3.3.0-py2.py3-none-any.whl size=281764026 sha256=4a52b9f251dc0304180fb7333fdbd5f5b9383d180515a196eace180efe221e79\n",
            "  Stored in directory: /root/.cache/pip/wheels/7a/8e/1b/f73a52650d2e5f337708d9f6a1750d451a7349a867f928b885\n",
            "Successfully built pyspark\n",
            "Installing collected packages: py4j, pyspark\n",
            "Successfully installed py4j-0.10.9.5 pyspark-3.3.0\n"
          ]
        }
      ],
      "source": [
        "! pip install pyspark"
      ]
    },
    {
      "cell_type": "code",
      "source": [
        "import pyspark\n",
        "from pyspark.sql import SparkSession\n",
        "spark = SparkSession.builder.getOrCreate()"
      ],
      "metadata": {
        "id": "yTKqEnBM2O8f"
      },
      "id": "yTKqEnBM2O8f",
      "execution_count": 1,
      "outputs": []
    },
    {
      "cell_type": "code",
      "execution_count": 2,
      "id": "201cee8c",
      "metadata": {
        "colab": {
          "base_uri": "https://localhost:8080/",
          "height": 17
        },
        "id": "201cee8c",
        "outputId": "d28759ea-dc11-4a5c-dc76-d2f6c4002ea9"
      },
      "outputs": [
        {
          "output_type": "display_data",
          "data": {
            "text/plain": [
              "<IPython.core.display.HTML object>"
            ],
            "text/html": [
              "<style>pre { white-space: pre !important; }</style>"
            ]
          },
          "metadata": {}
        }
      ],
      "source": [
        "from IPython.display import display, HTML\n",
        "display(HTML(\"<style>pre { white-space: pre !important; }</style>\"))"
      ]
    },
    {
      "cell_type": "markdown",
      "id": "efac8040",
      "metadata": {
        "id": "efac8040"
      },
      "source": [
        "### Create the schema of the streamed files (check the column names and types from the CSV files)"
      ]
    },
    {
      "cell_type": "code",
      "source": [
        "from pyspark.sql.types import (StructType, StructField,\n",
        "                               StringType, IntegerType,FloatType,DateType)"
      ],
      "metadata": {
        "id": "BzPYz6AU7Imd"
      },
      "id": "BzPYz6AU7Imd",
      "execution_count": 3,
      "outputs": []
    },
    {
      "cell_type": "code",
      "execution_count": 4,
      "id": "c4674d5d",
      "metadata": {
        "id": "c4674d5d"
      },
      "outputs": [],
      "source": [
        "recordSchema = StructType([StructField('ID', StringType(), True),\n",
        "                           StructField('Date', StringType(), True),\n",
        "                           StructField('Open', FloatType(), True),\n",
        "                           StructField('High', FloatType(), True),\n",
        "                           StructField('Low', FloatType(), True),\n",
        "                           StructField('Close', FloatType(), True),\n",
        "                           StructField('Adj Close', IntegerType(), True),\n",
        "                           StructField('Volume', IntegerType(), True)])"
      ]
    },
    {
      "cell_type": "markdown",
      "id": "4f50fbeb",
      "metadata": {
        "id": "4f50fbeb"
      },
      "source": [
        "### Create the dataframe by reading the stream using format \"csv\" and the schema you created."
      ]
    },
    {
      "cell_type": "code",
      "execution_count": 5,
      "id": "d77671b2",
      "metadata": {
        "id": "d77671b2"
      },
      "outputs": [],
      "source": [
        "df = spark.readStream.format(\"csv\") \\\n",
        "    .schema(recordSchema) \\\n",
        "    .load(\"/content/stream_test\")"
      ]
    },
    {
      "cell_type": "markdown",
      "id": "ce1e0e44",
      "metadata": {
        "id": "ce1e0e44"
      },
      "source": [
        "### Make sure the sataframe is streaming the files from the folder"
      ]
    },
    {
      "cell_type": "code",
      "execution_count": 6,
      "id": "0fc0fa13",
      "metadata": {
        "id": "0fc0fa13",
        "outputId": "49042802-05d3-41d6-ced5-dc354c96c4ba",
        "colab": {
          "base_uri": "https://localhost:8080/"
        }
      },
      "outputs": [
        {
          "output_type": "execute_result",
          "data": {
            "text/plain": [
              "True"
            ]
          },
          "metadata": {},
          "execution_count": 6
        }
      ],
      "source": [
        "df.isStreaming"
      ]
    },
    {
      "cell_type": "markdown",
      "id": "ac9d68de",
      "metadata": {
        "id": "ac9d68de"
      },
      "source": [
        "### Create a stream writer into memory and specify the query name \"stock:"
      ]
    },
    {
      "cell_type": "code",
      "execution_count": 7,
      "id": "f40bf944",
      "metadata": {
        "id": "f40bf944"
      },
      "outputs": [],
      "source": [
        "writer = df.writeStream.outputMode(\"append\") \\\n",
        "    .format(\"memory\")  \\\n",
        "    .queryName('stock')"
      ]
    },
    {
      "cell_type": "code",
      "source": [
        "query= writer.start()"
      ],
      "metadata": {
        "id": "jlQ9CbnvRPb-"
      },
      "id": "jlQ9CbnvRPb-",
      "execution_count": 8,
      "outputs": []
    },
    {
      "cell_type": "markdown",
      "id": "63a5f9a4",
      "metadata": {
        "id": "63a5f9a4"
      },
      "source": [
        "### Start the write stream and make sure it works (read all columns from the table)"
      ]
    },
    {
      "cell_type": "code",
      "execution_count": 9,
      "id": "0d98c6dc",
      "metadata": {
        "colab": {
          "base_uri": "https://localhost:8080/",
          "height": 126
        },
        "id": "0d98c6dc",
        "outputId": "3049c6ff-7f92-4113-c7c2-88ff0d983ec1"
      },
      "outputs": [
        {
          "output_type": "stream",
          "name": "stdout",
          "text": [
            "+---+----+----+----+---+-----+---------+------+\n",
            "| ID|Date|Open|High|Low|Close|Adj Close|Volume|\n",
            "+---+----+----+----+---+-----+---------+------+\n",
            "+---+----+----+----+---+-----+---------+------+\n",
            "\n"
          ]
        },
        {
          "output_type": "display_data",
          "data": {
            "text/plain": [
              "None"
            ]
          },
          "metadata": {}
        }
      ],
      "source": [
        "display(spark.sql('SELECT * FROM stock').show())"
      ]
    },
    {
      "cell_type": "code",
      "source": [
        "display(spark.sql('SELECT * FROM stock').show())"
      ],
      "metadata": {
        "colab": {
          "base_uri": "https://localhost:8080/",
          "height": 506
        },
        "id": "3tQjbZDshg5c",
        "outputId": "83868c66-ed9a-4477-acda-7cb0b9402b3d"
      },
      "id": "3tQjbZDshg5c",
      "execution_count": 14,
      "outputs": [
        {
          "output_type": "stream",
          "name": "stdout",
          "text": [
            "+----+----------+-------+-------+-------+-------+---------+------+\n",
            "|  ID|      Date|   Open|   High|    Low|  Close|Adj Close|Volume|\n",
            "+----+----------+-------+-------+-------+-------+---------+------+\n",
            "|null|      Date|   null|   null|   null|   null|     null|  null|\n",
            "|   0|2000-01-04|22817.9|25696.8|22817.9|24879.3|     null|108745|\n",
            "|   1|2000-01-05|24523.9|26229.9|23670.9|24417.3|     null|175990|\n",
            "|   2|2000-01-06|24381.7|24666.1|22746.8|22817.9|     null| 71746|\n",
            "|   3|2000-01-07|22036.0|24879.3|22036.0|23884.2|     null|120984|\n",
            "|   4|2000-01-10|24879.3|25519.1|23813.1|24061.9|     null|151371|\n",
            "|   5|2000-01-11|24168.5|25021.5|23955.2|24239.6|     null| 95943|\n",
            "|   6|2000-01-12|24168.5|24452.8|23457.6|23670.9|     null| 61899|\n",
            "|   7|2000-01-13|23670.9|24132.9|23102.2|23244.4|     null| 57538|\n",
            "|   8|2000-01-14|23457.6|24168.5|22746.8|23244.4|     null| 84267|\n",
            "|   9|2000-01-17|22533.6|23457.6|22533.6|23457.6|     null| 67807|\n",
            "|  10|2000-01-18|23457.6|23742.0|22746.8|23422.1|     null| 27995|\n",
            "|  11|2000-01-19|22817.9|23173.3|22036.0|22036.0|     null| 44173|\n",
            "|  12|2000-01-20|21325.1|22000.4|20756.5|21680.6|     null| 47550|\n",
            "|  13|2000-01-21|21680.6|22391.4|20863.1|21680.6|     null| 80750|\n",
            "|  14|2000-01-24|20969.7|21822.7|20969.7|20969.7|     null| 79906|\n",
            "|  15|2000-01-25|20258.9|20934.2|19548.0|20116.7|     null|170925|\n",
            "|  16|2000-01-26|20223.3|20543.2|19761.3|20330.0|     null| 59929|\n",
            "|  17|2000-01-27|20401.0|22746.8|20330.0|21040.8|     null|139132|\n",
            "|  18|2000-01-28|21431.8|22107.1|21040.8|21964.9|     null| 78640|\n",
            "+----+----------+-------+-------+-------+-------+---------+------+\n",
            "only showing top 20 rows\n",
            "\n"
          ]
        },
        {
          "output_type": "display_data",
          "data": {
            "text/plain": [
              "None"
            ]
          },
          "metadata": {}
        }
      ]
    },
    {
      "cell_type": "code",
      "execution_count": 15,
      "id": "769e6e1e",
      "metadata": {
        "scrolled": true,
        "id": "769e6e1e",
        "outputId": "3d43434b-8adb-44e2-f6a1-ab56434adcb1",
        "colab": {
          "base_uri": "https://localhost:8080/"
        }
      },
      "outputs": [
        {
          "output_type": "stream",
          "name": "stdout",
          "text": [
            "+--------+\n",
            "|count(1)|\n",
            "+--------+\n",
            "|      82|\n",
            "+--------+\n",
            "\n"
          ]
        }
      ],
      "source": [
        "spark.sql('SELECT Count(*) FROM stock').show()"
      ]
    },
    {
      "cell_type": "code",
      "source": [
        "display(spark.sql('SELECT * FROM stock').show())"
      ],
      "metadata": {
        "colab": {
          "base_uri": "https://localhost:8080/",
          "height": 506
        },
        "id": "-JTaNOp4gU_c",
        "outputId": "8e3118a8-c2a3-4b4c-94ac-ebebcf239498"
      },
      "id": "-JTaNOp4gU_c",
      "execution_count": 16,
      "outputs": [
        {
          "output_type": "stream",
          "name": "stdout",
          "text": [
            "+----+----------+-------+-------+-------+-------+---------+------+\n",
            "|  ID|      Date|   Open|   High|    Low|  Close|Adj Close|Volume|\n",
            "+----+----------+-------+-------+-------+-------+---------+------+\n",
            "|null|      Date|   null|   null|   null|   null|     null|  null|\n",
            "|   0|2000-01-04|22817.9|25696.8|22817.9|24879.3|     null|108745|\n",
            "|   1|2000-01-05|24523.9|26229.9|23670.9|24417.3|     null|175990|\n",
            "|   2|2000-01-06|24381.7|24666.1|22746.8|22817.9|     null| 71746|\n",
            "|   3|2000-01-07|22036.0|24879.3|22036.0|23884.2|     null|120984|\n",
            "|   4|2000-01-10|24879.3|25519.1|23813.1|24061.9|     null|151371|\n",
            "|   5|2000-01-11|24168.5|25021.5|23955.2|24239.6|     null| 95943|\n",
            "|   6|2000-01-12|24168.5|24452.8|23457.6|23670.9|     null| 61899|\n",
            "|   7|2000-01-13|23670.9|24132.9|23102.2|23244.4|     null| 57538|\n",
            "|   8|2000-01-14|23457.6|24168.5|22746.8|23244.4|     null| 84267|\n",
            "|   9|2000-01-17|22533.6|23457.6|22533.6|23457.6|     null| 67807|\n",
            "|  10|2000-01-18|23457.6|23742.0|22746.8|23422.1|     null| 27995|\n",
            "|  11|2000-01-19|22817.9|23173.3|22036.0|22036.0|     null| 44173|\n",
            "|  12|2000-01-20|21325.1|22000.4|20756.5|21680.6|     null| 47550|\n",
            "|  13|2000-01-21|21680.6|22391.4|20863.1|21680.6|     null| 80750|\n",
            "|  14|2000-01-24|20969.7|21822.7|20969.7|20969.7|     null| 79906|\n",
            "|  15|2000-01-25|20258.9|20934.2|19548.0|20116.7|     null|170925|\n",
            "|  16|2000-01-26|20223.3|20543.2|19761.3|20330.0|     null| 59929|\n",
            "|  17|2000-01-27|20401.0|22746.8|20330.0|21040.8|     null|139132|\n",
            "|  18|2000-01-28|21431.8|22107.1|21040.8|21964.9|     null| 78640|\n",
            "+----+----------+-------+-------+-------+-------+---------+------+\n",
            "only showing top 20 rows\n",
            "\n"
          ]
        },
        {
          "output_type": "display_data",
          "data": {
            "text/plain": [
              "None"
            ]
          },
          "metadata": {}
        }
      ]
    },
    {
      "cell_type": "code",
      "source": [
        "spark.sql('SELECT Count(*) FROM stock').show()"
      ],
      "metadata": {
        "colab": {
          "base_uri": "https://localhost:8080/"
        },
        "id": "vUVArKJJgV6i",
        "outputId": "f5f9cf9c-4c3f-4972-dffd-cc58f875fc36"
      },
      "id": "vUVArKJJgV6i",
      "execution_count": 17,
      "outputs": [
        {
          "output_type": "stream",
          "name": "stdout",
          "text": [
            "+--------+\n",
            "|count(1)|\n",
            "+--------+\n",
            "|     412|\n",
            "+--------+\n",
            "\n"
          ]
        }
      ]
    },
    {
      "cell_type": "markdown",
      "id": "16908fa6",
      "metadata": {
        "id": "16908fa6"
      },
      "source": [
        "### Remove the first row from the data (hint: drop the rows where ALL values are null), then add a new column \"diff\", which is the difference between high and low columns"
      ]
    },
    {
      "cell_type": "code",
      "source": [
        "df2 = df.dropna(thresh=3)"
      ],
      "metadata": {
        "id": "w7ce-5S4sotf"
      },
      "id": "w7ce-5S4sotf",
      "execution_count": 18,
      "outputs": []
    },
    {
      "cell_type": "code",
      "execution_count": 19,
      "id": "9f2eaa25",
      "metadata": {
        "id": "9f2eaa25",
        "colab": {
          "base_uri": "https://localhost:8080/"
        },
        "outputId": "4fa00a74-8875-421b-e7a1-c9d726a042fc"
      },
      "outputs": [
        {
          "output_type": "execute_result",
          "data": {
            "text/plain": [
              "True"
            ]
          },
          "metadata": {},
          "execution_count": 19
        }
      ],
      "source": [
        "df2.isStreaming"
      ]
    },
    {
      "cell_type": "code",
      "source": [
        "df2 = df2.withColumn('diff',df2.High - df2.Low)"
      ],
      "metadata": {
        "id": "rPovB0RwpGIl"
      },
      "id": "rPovB0RwpGIl",
      "execution_count": 20,
      "outputs": []
    },
    {
      "cell_type": "code",
      "source": [
        "query.stop()"
      ],
      "metadata": {
        "id": "PILeChV7Tu1t"
      },
      "id": "PILeChV7Tu1t",
      "execution_count": 21,
      "outputs": []
    },
    {
      "cell_type": "markdown",
      "id": "1f14581b",
      "metadata": {
        "id": "1f14581b"
      },
      "source": [
        "### Create a new write stream using the new generated dataframe and call the generate table \"modified_data\""
      ]
    },
    {
      "cell_type": "code",
      "execution_count": 22,
      "id": "9fb1be0e",
      "metadata": {
        "id": "9fb1be0e"
      },
      "outputs": [],
      "source": [
        "writer2 = df2.writeStream.outputMode(\"append\") \\\n",
        "    .format(\"memory\")  \\\n",
        "    .queryName('modified_data')"
      ]
    },
    {
      "cell_type": "code",
      "execution_count": 23,
      "id": "969acbbc",
      "metadata": {
        "id": "969acbbc"
      },
      "outputs": [],
      "source": [
        "query2 = writer2.start()"
      ]
    },
    {
      "cell_type": "code",
      "execution_count": 24,
      "id": "b3bcedd4",
      "metadata": {
        "id": "b3bcedd4",
        "outputId": "0b6b5f62-dae2-489c-85e1-e9be057a4ca2",
        "colab": {
          "base_uri": "https://localhost:8080/",
          "height": 506
        }
      },
      "outputs": [
        {
          "output_type": "stream",
          "name": "stdout",
          "text": [
            "+---+----------+-------+-------+-------+-------+---------+------+---------+\n",
            "| ID|      Date|   Open|   High|    Low|  Close|Adj Close|Volume|     diff|\n",
            "+---+----------+-------+-------+-------+-------+---------+------+---------+\n",
            "|240|2000-12-05|26585.3|27367.3|26372.1|27011.8|     null| 91019| 995.2012|\n",
            "|241|2000-12-06|27011.8|27509.4|26798.6|26869.7|     null|105791| 710.8008|\n",
            "|242|2000-12-07|27011.8|27011.8|26478.7|26656.4|     null| 40656|533.10156|\n",
            "|243|2000-12-08|26656.4|27722.7|26656.4|27651.6|     null|149964|1066.2988|\n",
            "|244|2000-12-11|27687.1|28860.0|27651.6|28078.1|     null|159671|1208.4004|\n",
            "|245|2000-12-12|28042.6|28078.1|27438.3|27935.9|     null| 74560| 639.7988|\n",
            "|246|2000-12-13|27651.6|29286.5|27651.6|28469.1|     null|270385|1634.9004|\n",
            "|247|2000-12-14|28469.1|29784.1|28291.3|28362.4|     null|256317|1492.7988|\n",
            "|248|2000-12-15|28362.4|28895.6|27793.8|27935.9|     null|108886|1101.7988|\n",
            "|249|2000-12-18|27580.5|28433.5|27367.3|28291.3|     null| 92848|1066.1992|\n",
            "|250|2000-12-19|27722.7|28788.9|27651.6|27651.6|     null|115779|1137.3008|\n",
            "|251|2000-12-20|27402.8|27793.8|27154.0|27722.7|     null| 99601| 639.8008|\n",
            "|252|2000-12-21|27367.3|27793.8|27082.9|27722.7|     null|129706| 710.9004|\n",
            "|253|2000-12-22|27687.1|28007.0|27509.4|28007.0|     null| 77233| 497.5996|\n",
            "|254|2000-12-26|27971.5|31987.7|27473.9|28433.5|     null|131535| 4513.799|\n",
            "|255|2001-01-02|27367.3|27367.3|25945.6|26656.4|     null| 64150|1421.7012|\n",
            "|256|2001-01-03|26585.3|26656.4|26016.7|26656.4|     null| 37421| 639.7012|\n",
            "|257|2001-01-04|27367.3|28078.1|26905.2|27082.9|     null|131254|1172.9004|\n",
            "|258|2001-01-05|26940.8|26940.8|26194.4|26585.3|     null| 90316| 746.4004|\n",
            "|259|2001-01-08|26514.2|27011.8|26052.2|26052.2|     null|102414|959.60156|\n",
            "+---+----------+-------+-------+-------+-------+---------+------+---------+\n",
            "only showing top 20 rows\n",
            "\n"
          ]
        },
        {
          "output_type": "display_data",
          "data": {
            "text/plain": [
              "None"
            ]
          },
          "metadata": {}
        }
      ],
      "source": [
        "display(spark.sql('SELECT * FROM modified_data').show())"
      ]
    },
    {
      "cell_type": "code",
      "source": [
        "query2.stop()"
      ],
      "metadata": {
        "id": "8V1Ram-ViJu4"
      },
      "id": "8V1Ram-ViJu4",
      "execution_count": 25,
      "outputs": []
    },
    {
      "cell_type": "markdown",
      "id": "e16c3036",
      "metadata": {
        "id": "e16c3036"
      },
      "source": [
        "### Write the generated data into files instead of the memory. "
      ]
    },
    {
      "cell_type": "code",
      "execution_count": 26,
      "id": "6441b76a",
      "metadata": {
        "id": "6441b76a"
      },
      "outputs": [],
      "source": [
        "writer3 = df2.writeStream.outputMode(\"append\") \\\n",
        "    .format(\"parquet\") \\\n",
        "    .option(\"path\", \"OutStream/\") \\\n",
        "    .option(\"checkpointLocation\", \"chkpnt\") \n",
        "query = writer3.start()\n"
      ]
    },
    {
      "cell_type": "code",
      "source": [
        "query.stop()"
      ],
      "metadata": {
        "id": "2GzJnTjwilaa"
      },
      "id": "2GzJnTjwilaa",
      "execution_count": 27,
      "outputs": []
    },
    {
      "cell_type": "markdown",
      "id": "72f07e3f",
      "metadata": {
        "id": "72f07e3f"
      },
      "source": [
        "### Stop the query. Now, try reading the generated parquet files into a normal dataframe\n",
        "- Create a schema and use it to read the data.\n",
        "- Show the output."
      ]
    },
    {
      "cell_type": "code",
      "source": [
        "df = spark.read.parquet('OutStream/')\n",
        "df.show()"
      ],
      "metadata": {
        "colab": {
          "base_uri": "https://localhost:8080/"
        },
        "id": "ZDhuIMGGi0ML",
        "outputId": "df266d69-cf50-496d-9d79-d00dfdf48391"
      },
      "id": "ZDhuIMGGi0ML",
      "execution_count": 28,
      "outputs": [
        {
          "output_type": "stream",
          "name": "stdout",
          "text": [
            "+---+----------+-------+-------+-------+-------+---------+------+---------+\n",
            "| ID|      Date|   Open|   High|    Low|  Close|Adj Close|Volume|     diff|\n",
            "+---+----------+-------+-------+-------+-------+---------+------+---------+\n",
            "|240|2000-12-05|26585.3|27367.3|26372.1|27011.8|     null| 91019| 995.2012|\n",
            "|241|2000-12-06|27011.8|27509.4|26798.6|26869.7|     null|105791| 710.8008|\n",
            "|242|2000-12-07|27011.8|27011.8|26478.7|26656.4|     null| 40656|533.10156|\n",
            "|243|2000-12-08|26656.4|27722.7|26656.4|27651.6|     null|149964|1066.2988|\n",
            "|244|2000-12-11|27687.1|28860.0|27651.6|28078.1|     null|159671|1208.4004|\n",
            "|245|2000-12-12|28042.6|28078.1|27438.3|27935.9|     null| 74560| 639.7988|\n",
            "|246|2000-12-13|27651.6|29286.5|27651.6|28469.1|     null|270385|1634.9004|\n",
            "|247|2000-12-14|28469.1|29784.1|28291.3|28362.4|     null|256317|1492.7988|\n",
            "|248|2000-12-15|28362.4|28895.6|27793.8|27935.9|     null|108886|1101.7988|\n",
            "|249|2000-12-18|27580.5|28433.5|27367.3|28291.3|     null| 92848|1066.1992|\n",
            "|250|2000-12-19|27722.7|28788.9|27651.6|27651.6|     null|115779|1137.3008|\n",
            "|251|2000-12-20|27402.8|27793.8|27154.0|27722.7|     null| 99601| 639.8008|\n",
            "|252|2000-12-21|27367.3|27793.8|27082.9|27722.7|     null|129706| 710.9004|\n",
            "|253|2000-12-22|27687.1|28007.0|27509.4|28007.0|     null| 77233| 497.5996|\n",
            "|254|2000-12-26|27971.5|31987.7|27473.9|28433.5|     null|131535| 4513.799|\n",
            "|255|2001-01-02|27367.3|27367.3|25945.6|26656.4|     null| 64150|1421.7012|\n",
            "|256|2001-01-03|26585.3|26656.4|26016.7|26656.4|     null| 37421| 639.7012|\n",
            "|257|2001-01-04|27367.3|28078.1|26905.2|27082.9|     null|131254|1172.9004|\n",
            "|258|2001-01-05|26940.8|26940.8|26194.4|26585.3|     null| 90316| 746.4004|\n",
            "|259|2001-01-08|26514.2|27011.8|26052.2|26052.2|     null|102414|959.60156|\n",
            "+---+----------+-------+-------+-------+-------+---------+------+---------+\n",
            "only showing top 20 rows\n",
            "\n"
          ]
        }
      ]
    },
    {
      "cell_type": "markdown",
      "id": "4814d697",
      "metadata": {
        "id": "4814d697"
      },
      "source": [
        "### Sort the dataframe based on the ID"
      ]
    },
    {
      "cell_type": "code",
      "source": [
        "finalDFSorted = df.sort('ID')\n",
        "finalDFSorted.show()"
      ],
      "metadata": {
        "colab": {
          "base_uri": "https://localhost:8080/"
        },
        "id": "RofYHceRjCrh",
        "outputId": "9fe180e1-e6f4-4340-dfb4-4ba1d43c807f"
      },
      "id": "RofYHceRjCrh",
      "execution_count": 29,
      "outputs": [
        {
          "output_type": "stream",
          "name": "stdout",
          "text": [
            "+---+----------+-------+-------+-------+-------+---------+------+---------+\n",
            "| ID|      Date|   Open|   High|    Low|  Close|Adj Close|Volume|     diff|\n",
            "+---+----------+-------+-------+-------+-------+---------+------+---------+\n",
            "|  0|2000-01-04|22817.9|25696.8|22817.9|24879.3|     null|108745|2878.9004|\n",
            "|  1|2000-01-05|24523.9|26229.9|23670.9|24417.3|     null|175990|   2559.0|\n",
            "| 10|2000-01-18|23457.6|23742.0|22746.8|23422.1|     null| 27995| 995.1992|\n",
            "|100|2000-05-23|17557.7|17913.1|16775.8|17557.7|     null| 39671|1137.2988|\n",
            "|101|2000-05-24|17664.3|18481.8|16846.9|17415.5|     null| 57256|1634.9004|\n",
            "|102|2000-05-25|18339.6|19157.1|17628.8|18695.0|     null|219319|1528.2988|\n",
            "|103|2000-05-26|18695.0|20116.7|18126.4|18979.4|     null| 95521|1990.2988|\n",
            "|104|2000-05-29|18268.5|19334.8|18268.5|19192.6|     null| 59929|1066.3008|\n",
            "|105|2000-05-30|19192.6|19192.6|19192.6|19192.6|     null|     0|      0.0|\n",
            "|106|2000-05-31|19761.3|21183.0|19761.3|21183.0|     null| 96787|1421.6992|\n",
            "|107|2000-06-01|21325.1|21325.1|20685.4|21289.6|     null| 37983| 639.6992|\n",
            "|108|2000-06-02|21467.3|21893.8|20685.4|20969.7|     null|100586|1208.4004|\n",
            "|109|2000-06-05|20969.7|23813.1|20898.6|22320.3|     null|112262|   2914.5|\n",
            "| 11|2000-01-19|22817.9|23173.3|22036.0|22036.0|     null| 44173|1137.3008|\n",
            "|110|2000-06-06|22320.3|22320.3|22320.3|22320.3|     null|     0|      0.0|\n",
            "|111|2000-06-07|22746.8|23457.6|21822.7|22889.0|     null|118311|1634.9004|\n",
            "|112|2000-06-08|23031.1|23457.6|21325.1|21325.1|     null| 75123|   2132.5|\n",
            "|113|2000-06-09|21893.8|21893.8|21040.8|21396.2|     null| 61758|    853.0|\n",
            "|114|2000-06-12|22036.0|24310.7|21467.3|23457.6|     null|393620|2843.3984|\n",
            "|115|2000-06-13|23457.6|23457.6|21680.6|22036.0|     null|139272|   1777.0|\n",
            "+---+----------+-------+-------+-------+-------+---------+------+---------+\n",
            "only showing top 20 rows\n",
            "\n"
          ]
        }
      ]
    },
    {
      "cell_type": "code",
      "execution_count": null,
      "id": "c51d91a5",
      "metadata": {
        "id": "c51d91a5",
        "outputId": "c40c3102-73b5-46ff-e027-a2ef7d8c545e"
      },
      "outputs": [
        {
          "name": "stdout",
          "output_type": "stream",
          "text": [
            "+---+----------+------------+------------+------------+------------+------------+------+------------------+\n",
            "| ID|      Date|        Open|        High|         Low|       Close|   Adj Close|Volume|              diff|\n",
            "+---+----------+------------+------------+------------+------------+------------+------+------------------+\n",
            "|  0|2000-01-04|22817.900391|25696.800781|22817.900391|24879.300781|23510.880859|108745|2878.9003900000025|\n",
            "|  1|2000-01-05|24523.900391|26229.900391|23670.900391|24417.300781|23074.294922|175990|            2559.0|\n",
            "|  2|2000-01-06|24381.699219|24666.099609|22746.800781|22817.900391|21562.865234| 71746| 1919.298827999999|\n",
            "|  3|2000-01-07|     22036.0|24879.300781|     22036.0|23884.199219|22570.513672|120984|2843.3007810000017|\n",
            "|  4|2000-01-10|24879.300781|25519.099609|23813.099609|24061.900391|22738.439453|151371|            1706.0|\n",
            "|  5|2000-01-11|     24168.5|     25021.5|23955.199219|24239.599609|22906.365234| 95943|1066.3007810000017|\n",
            "|  6|2000-01-12|     24168.5|24452.800781|23457.599609|23670.900391|22368.947266| 61899|  995.201172000001|\n",
            "|  7|2000-01-13|23670.900391|24132.900391|23102.199219|23244.400391| 21965.90625| 57538| 1030.701172000001|\n",
            "|  8|2000-01-14|23457.599609|     24168.5|22746.800781|23244.400391| 21965.90625| 84267|1421.6992189999983|\n",
            "|  9|2000-01-17|22533.599609|23457.599609|22533.599609|23457.599609|22167.376953| 67807|             924.0|\n",
            "| 10|2000-01-18|23457.599609|     23742.0|22746.800781|23422.099609|22133.832031| 27995| 995.1992189999983|\n",
            "| 11|2000-01-19|22817.900391|23173.300781|     22036.0|     22036.0|20823.970703| 44173|1137.3007810000017|\n",
            "| 12|2000-01-20|21325.099609|22000.400391|     20756.5|21680.599609|20488.117188| 47550|1243.9003909999992|\n",
            "| 13|2000-01-21|21680.599609|22391.400391|20863.099609|21680.599609|20488.117188| 80750|1528.3007819999984|\n",
            "| 14|2000-01-24|20969.699219|21822.699219|20969.699219|20969.699219|19816.320313| 79906|             853.0|\n",
            "| 15|2000-01-25|20258.900391|20934.199219|     19548.0|20116.699219|19010.236328|170925|1386.1992189999983|\n",
            "| 16|2000-01-26|20223.300781|20543.199219|19761.300781|     20330.0|19211.804688| 59929| 781.8984379999965|\n",
            "| 17|2000-01-27|     20401.0|22746.800781|     20330.0|21040.800781|19883.511719|139132|2416.8007810000017|\n",
            "| 18|2000-01-28|21431.800781|22107.099609|21040.800781|21964.900391|20756.783203| 78640| 1066.298827999999|\n",
            "| 19|2000-01-31|21325.099609|21893.800781|     21183.0|21467.300781|20286.552734| 45861| 710.8007810000017|\n",
            "+---+----------+------------+------------+------------+------------+------------+------+------------------+\n",
            "only showing top 20 rows\n",
            "\n"
          ]
        }
      ],
      "source": [
        ""
      ]
    },
    {
      "cell_type": "code",
      "execution_count": null,
      "id": "e218d5ae",
      "metadata": {
        "id": "e218d5ae"
      },
      "outputs": [],
      "source": [
        ""
      ]
    }
  ],
  "metadata": {
    "kernelspec": {
      "display_name": "Python 3 (ipykernel)",
      "language": "python",
      "name": "python3"
    },
    "language_info": {
      "codemirror_mode": {
        "name": "ipython",
        "version": 3
      },
      "file_extension": ".py",
      "mimetype": "text/x-python",
      "name": "python",
      "nbconvert_exporter": "python",
      "pygments_lexer": "ipython3",
      "version": "3.9.12"
    },
    "colab": {
      "name": "Streaming P.S._Student.ipynb",
      "provenance": [],
      "collapsed_sections": []
    }
  },
  "nbformat": 4,
  "nbformat_minor": 5
}