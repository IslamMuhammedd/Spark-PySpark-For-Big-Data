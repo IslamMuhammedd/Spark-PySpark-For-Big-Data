{
  "cells": [
    {
      "cell_type": "markdown",
      "id": "779b346d",
      "metadata": {
        "id": "779b346d"
      },
      "source": [
        "## The following section is for Colab Users.\n",
        "### Just run the following code cells"
      ]
    },
    {
      "cell_type": "code",
      "execution_count": 1,
      "id": "7d73eb01",
      "metadata": {
        "colab": {
          "base_uri": "https://localhost:8080/"
        },
        "id": "7d73eb01",
        "outputId": "25de728c-8abe-4ee9-bf26-67314b6d8373"
      },
      "outputs": [
        {
          "output_type": "stream",
          "name": "stdout",
          "text": [
            "\u001b[K     |████████████████████████████████| 281.3 MB 42 kB/s \n",
            "\u001b[K     |████████████████████████████████| 199 kB 53.5 MB/s \n",
            "\u001b[K     |████████████████████████████████| 154 kB 61.3 MB/s \n",
            "\u001b[?25h  Building wheel for pyspark (setup.py) ... \u001b[?25l\u001b[?25hdone\n"
          ]
        }
      ],
      "source": [
        "!apt-get install openjdk-11-jdk-headless -qq > /dev/null\n",
        "!wget -q https://bitbucket.org/habedi/datasets/raw/b6769c4664e7ff68b001e2f43bc517888cbe3642/spark/spark-3.0.2-bin-hadoop2.7.tgz\n",
        "!tar xf spark-3.0.2-bin-hadoop2.7.tgz\n",
        "!rm -rf spark-3.0.2-bin-hadoop2.7.tgz*\n",
        "!pip -q install findspark pyspark graphframes"
      ]
    },
    {
      "cell_type": "code",
      "execution_count": 2,
      "id": "299e0d6a",
      "metadata": {
        "colab": {
          "base_uri": "https://localhost:8080/"
        },
        "id": "299e0d6a",
        "outputId": "a2e6ad89-52ef-495d-9e2d-b2f2c78cce10"
      },
      "outputs": [
        {
          "output_type": "stream",
          "name": "stdout",
          "text": [
            "--2022-07-14 16:20:53--  https://repos.spark-packages.org/graphframes/graphframes/0.8.2-spark3.0-s_2.12/graphframes-0.8.2-spark3.0-s_2.12.jar\n",
            "Resolving repos.spark-packages.org (repos.spark-packages.org)... 13.224.2.102, 13.224.2.91, 13.224.2.85, ...\n",
            "Connecting to repos.spark-packages.org (repos.spark-packages.org)|13.224.2.102|:443... connected.\n",
            "HTTP request sent, awaiting response... 200 OK\n",
            "Length: 247882 (242K) [binary/octet-stream]\n",
            "Saving to: ‘/content/spark-3.0.2-bin-hadoop2.7/jars/graphframes-0.8.2-spark3.0-s_2.12.jar’\n",
            "\n",
            "graphframes-0.8.2-s 100%[===================>] 242.07K  --.-KB/s    in 0.02s   \n",
            "\n",
            "2022-07-14 16:20:53 (10.5 MB/s) - ‘/content/spark-3.0.2-bin-hadoop2.7/jars/graphframes-0.8.2-spark3.0-s_2.12.jar’ saved [247882/247882]\n",
            "\n"
          ]
        }
      ],
      "source": [
        "!wget https://repos.spark-packages.org/graphframes/graphframes/0.8.2-spark3.0-s_2.12/graphframes-0.8.2-spark3.0-s_2.12.jar -P /content/spark-3.0.2-bin-hadoop2.7/jars/\n",
        "!cp /content/spark-3.0.2-bin-hadoop2.7/jars/graphframes-0.8.2-spark3.0-s_2.12.jar /content/spark-3.0.2-bin-hadoop2.7/graphframes-0.8.2-spark3.0-s_2.12.zip"
      ]
    },
    {
      "cell_type": "code",
      "execution_count": 3,
      "id": "ee0d39ec",
      "metadata": {
        "id": "ee0d39ec"
      },
      "outputs": [],
      "source": [
        "import os\n",
        "\n",
        "os.environ[\"JAVA_HOME\"] = \"/usr/lib/jvm/java-11-openjdk-amd64\"\n",
        "os.environ[\"SPARK_HOME\"] = \"/content/spark-3.0.2-bin-hadoop2.7\"\n",
        "os.environ[\"HADOOP_HOME\"] = os.environ[\"SPARK_HOME\"]\n",
        "\n",
        "os.environ[\"PYSPARK_DRIVER_PYTHON\"] = \"jupyter\"\n",
        "os.environ[\"PYSPARK_DRIVER_PYTHON_OPTS\"] = \"notebook\"\n",
        "os.environ[\"PYSPARK_SUBMIT_ARGS\"] = \"--master local[*] pyspark-shell\""
      ]
    },
    {
      "cell_type": "code",
      "execution_count": 4,
      "id": "7136d8e6",
      "metadata": {
        "id": "7136d8e6"
      },
      "outputs": [],
      "source": [
        "import findspark\n",
        "findspark.init()"
      ]
    },
    {
      "cell_type": "code",
      "execution_count": 5,
      "id": "92f3e19b",
      "metadata": {
        "id": "92f3e19b"
      },
      "outputs": [],
      "source": [
        "!export PYSPARK_SUBMIT_ARGS=\"--master local[*] pyspark-shell\"\n",
        "!export PYSPARK_DRIVER_PYTHON=jupyter\n",
        "!export PYSPARK_DRIVER_PYTHON_OPTS=notebook"
      ]
    },
    {
      "cell_type": "code",
      "execution_count": 6,
      "id": "f1504ff4",
      "metadata": {
        "id": "f1504ff4"
      },
      "outputs": [],
      "source": [
        "from pyspark.sql import SparkSession\n",
        "from graphframes import *\n",
        "\n",
        "spark = SparkSession.builder.master(\"local[*]\").appName(\"GraphFrames\").getOrCreate()"
      ]
    },
    {
      "cell_type": "code",
      "execution_count": 7,
      "id": "252db99a",
      "metadata": {
        "id": "252db99a"
      },
      "outputs": [],
      "source": [
        "os.environ[\"PYSPARK_SUBMIT_ARGS\"] = \"--packages graphframes:graphframes:0.8.1-spark3.0-s_2.12 pyspark-shell\""
      ]
    },
    {
      "cell_type": "markdown",
      "id": "66232934",
      "metadata": {
        "id": "66232934"
      },
      "source": [
        "**************************************************************************\n",
        "**************************************************************************\n",
        "**************************************************************************"
      ]
    },
    {
      "cell_type": "code",
      "execution_count": 7,
      "id": "c90808ca",
      "metadata": {
        "id": "c90808ca"
      },
      "outputs": [],
      "source": [
        ""
      ]
    },
    {
      "cell_type": "code",
      "execution_count": 8,
      "id": "2a0819b3",
      "metadata": {
        "colab": {
          "base_uri": "https://localhost:8080/",
          "height": 17
        },
        "id": "2a0819b3",
        "outputId": "52700dbf-8f75-4f1f-adc8-609d6dbad701"
      },
      "outputs": [
        {
          "output_type": "display_data",
          "data": {
            "text/plain": [
              "<IPython.core.display.HTML object>"
            ],
            "text/html": [
              "<style>pre { white-space: pre !important; }</style>"
            ]
          },
          "metadata": {}
        }
      ],
      "source": [
        "from IPython.display import display, HTML\n",
        "display(HTML(\"<style>pre { white-space: pre !important; }</style>\"))"
      ]
    },
    {
      "cell_type": "markdown",
      "id": "d7f57da0",
      "metadata": {
        "id": "d7f57da0"
      },
      "source": [
        "### Read departuredelays.csv in Edge DataFrame\n",
        "### Read airport-codes-na.txt in Vertix DataFrame (the separator is Tab i.e sep = '\\t' )"
      ]
    },
    {
      "cell_type": "code",
      "source": [
        "vertex = spark.read.csv('/content/airport-codes-na.txt',sep='\\t',header=True)\n",
        "edges = spark.read.csv('/content/departuredelays.csv',header=True,inferSchema=True)"
      ],
      "metadata": {
        "id": "omIsIbQwl08t"
      },
      "id": "omIsIbQwl08t",
      "execution_count": 37,
      "outputs": []
    },
    {
      "cell_type": "markdown",
      "id": "631c334e",
      "metadata": {
        "id": "631c334e"
      },
      "source": [
        "#### The US flight delays data set has five columns:\n",
        "- The <b>date</b> column contains an integer like 02190925 . When converted, this maps to 02-19 09:25 am.\n",
        "- The <b>delay</b> column gives the delay in minutes between the scheduled and actual departure times. Early departures show negative numbers.\n",
        "- The <b>distance</b> column gives the distance in miles from the origin airport to the destination airport.\n",
        "- The <b>origin</b> column contains the origin IATA airport code.\n",
        "- The <b>destination</b> column contains the destination IATA airport code.\n",
        "\n",
        "#### The airport-codes data set has four columns:\n",
        "- The <b>IATA</b> column contains IATA airport code.\n",
        "- The <b>City, State, and Country</b> columns contains information about the airport location. "
      ]
    },
    {
      "cell_type": "code",
      "source": [
        "vertex.show()"
      ],
      "metadata": {
        "colab": {
          "base_uri": "https://localhost:8080/"
        },
        "id": "6KofTf93oWnF",
        "outputId": "1cd277a4-10af-4a92-f431-6fd9e02d0734"
      },
      "id": "6KofTf93oWnF",
      "execution_count": 38,
      "outputs": [
        {
          "output_type": "stream",
          "name": "stdout",
          "text": [
            "+-----------+-----+-------+----+\n",
            "|       City|State|Country|IATA|\n",
            "+-----------+-----+-------+----+\n",
            "| Abbotsford|   BC| Canada| YXX|\n",
            "|   Aberdeen|   SD|    USA| ABR|\n",
            "|    Abilene|   TX|    USA| ABI|\n",
            "|      Akron|   OH|    USA| CAK|\n",
            "|    Alamosa|   CO|    USA| ALS|\n",
            "|     Albany|   GA|    USA| ABY|\n",
            "|     Albany|   NY|    USA| ALB|\n",
            "|Albuquerque|   NM|    USA| ABQ|\n",
            "| Alexandria|   LA|    USA| AEX|\n",
            "|  Allentown|   PA|    USA| ABE|\n",
            "|   Alliance|   NE|    USA| AIA|\n",
            "|     Alpena|   MI|    USA| APN|\n",
            "|    Altoona|   PA|    USA| AOO|\n",
            "|   Amarillo|   TX|    USA| AMA|\n",
            "|Anahim Lake|   BC| Canada| YAA|\n",
            "|  Anchorage|   AK|    USA| ANC|\n",
            "|   Appleton|   WI|    USA| ATW|\n",
            "|     Arviat|  NWT| Canada| YEK|\n",
            "|  Asheville|   NC|    USA| AVL|\n",
            "|      Aspen|   CO|    USA| ASE|\n",
            "+-----------+-----+-------+----+\n",
            "only showing top 20 rows\n",
            "\n"
          ]
        }
      ]
    },
    {
      "cell_type": "code",
      "execution_count": 39,
      "id": "30f02a5a",
      "metadata": {
        "colab": {
          "base_uri": "https://localhost:8080/"
        },
        "id": "30f02a5a",
        "outputId": "142fa771-70bc-44ce-eb54-1528968872a9"
      },
      "outputs": [
        {
          "output_type": "stream",
          "name": "stdout",
          "text": [
            "+-------+-----+--------+------+-----------+\n",
            "|   date|delay|distance|origin|destination|\n",
            "+-------+-----+--------+------+-----------+\n",
            "|1011245|    6|     602|   ABE|        ATL|\n",
            "|1020600|   -8|     369|   ABE|        DTW|\n",
            "|1021245|   -2|     602|   ABE|        ATL|\n",
            "|1020605|   -4|     602|   ABE|        ATL|\n",
            "|1031245|   -4|     602|   ABE|        ATL|\n",
            "|1030605|    0|     602|   ABE|        ATL|\n",
            "|1041243|   10|     602|   ABE|        ATL|\n",
            "|1040605|   28|     602|   ABE|        ATL|\n",
            "|1051245|   88|     602|   ABE|        ATL|\n",
            "|1050605|    9|     602|   ABE|        ATL|\n",
            "|1061215|   -6|     602|   ABE|        ATL|\n",
            "|1061725|   69|     602|   ABE|        ATL|\n",
            "|1061230|    0|     369|   ABE|        DTW|\n",
            "|1060625|   -3|     602|   ABE|        ATL|\n",
            "|1070600|    0|     369|   ABE|        DTW|\n",
            "|1071725|    0|     602|   ABE|        ATL|\n",
            "|1071230|    0|     369|   ABE|        DTW|\n",
            "|1070625|    0|     602|   ABE|        ATL|\n",
            "|1071219|    0|     569|   ABE|        ORD|\n",
            "|1080600|    0|     369|   ABE|        DTW|\n",
            "+-------+-----+--------+------+-----------+\n",
            "only showing top 20 rows\n",
            "\n"
          ]
        }
      ],
      "source": [
        "edges.show()"
      ]
    },
    {
      "cell_type": "markdown",
      "id": "e1d90463",
      "metadata": {
        "id": "e1d90463"
      },
      "source": [
        "### In the vertix DataFrame, drop any duplicated rows with the same  IATA code."
      ]
    },
    {
      "cell_type": "code",
      "source": [
        "vertex.count()"
      ],
      "metadata": {
        "colab": {
          "base_uri": "https://localhost:8080/"
        },
        "id": "FeIDXNmtjxNK",
        "outputId": "5fd03f0b-73fe-4949-e154-7b747e4672ef"
      },
      "id": "FeIDXNmtjxNK",
      "execution_count": 40,
      "outputs": [
        {
          "output_type": "execute_result",
          "data": {
            "text/plain": [
              "526"
            ]
          },
          "metadata": {},
          "execution_count": 40
        }
      ]
    },
    {
      "cell_type": "code",
      "execution_count": 42,
      "id": "15571db4",
      "metadata": {
        "colab": {
          "base_uri": "https://localhost:8080/"
        },
        "id": "15571db4",
        "outputId": "ccaec1d3-ad0f-4f3f-9933-a40f6211202a"
      },
      "outputs": [
        {
          "output_type": "execute_result",
          "data": {
            "text/plain": [
              "524"
            ]
          },
          "metadata": {},
          "execution_count": 42
        }
      ],
      "source": [
        "vertex = vertex.drop_duplicates(subset=['IATA'])\n",
        "vertex.count()"
      ]
    },
    {
      "cell_type": "markdown",
      "id": "83d1dea8",
      "metadata": {
        "id": "83d1dea8"
      },
      "source": [
        "### In the edges DataFrame:\n",
        "- Rename the <b>date</b> columns to become <b>tripid</b>.\n",
        "- Rename the <b>origin</b> columns to become <b>src</b>.\n",
        "- Rename the <b>destination</b> columns to become <b>dst</b>."
      ]
    },
    {
      "cell_type": "code",
      "execution_count": 46,
      "id": "5319e844",
      "metadata": {
        "colab": {
          "base_uri": "https://localhost:8080/"
        },
        "id": "5319e844",
        "outputId": "a98e85bf-63b9-430c-e7c0-11135685a88d"
      },
      "outputs": [
        {
          "output_type": "stream",
          "name": "stdout",
          "text": [
            "+-------+-----+--------+---+---+\n",
            "| tripid|delay|distance|src|dst|\n",
            "+-------+-----+--------+---+---+\n",
            "|1011245|    6|     602|ABE|ATL|\n",
            "|1020600|   -8|     369|ABE|DTW|\n",
            "|1021245|   -2|     602|ABE|ATL|\n",
            "|1020605|   -4|     602|ABE|ATL|\n",
            "|1031245|   -4|     602|ABE|ATL|\n",
            "|1030605|    0|     602|ABE|ATL|\n",
            "|1041243|   10|     602|ABE|ATL|\n",
            "|1040605|   28|     602|ABE|ATL|\n",
            "|1051245|   88|     602|ABE|ATL|\n",
            "|1050605|    9|     602|ABE|ATL|\n",
            "|1061215|   -6|     602|ABE|ATL|\n",
            "|1061725|   69|     602|ABE|ATL|\n",
            "|1061230|    0|     369|ABE|DTW|\n",
            "|1060625|   -3|     602|ABE|ATL|\n",
            "|1070600|    0|     369|ABE|DTW|\n",
            "|1071725|    0|     602|ABE|ATL|\n",
            "|1071230|    0|     369|ABE|DTW|\n",
            "|1070625|    0|     602|ABE|ATL|\n",
            "|1071219|    0|     569|ABE|ORD|\n",
            "|1080600|    0|     369|ABE|DTW|\n",
            "+-------+-----+--------+---+---+\n",
            "only showing top 20 rows\n",
            "\n"
          ]
        }
      ],
      "source": [
        "edges = edges.withColumnRenamed('date','tripid').withColumnRenamed('origin','src').withColumnRenamed('destination','dst')\n",
        "edges.show()"
      ]
    },
    {
      "cell_type": "markdown",
      "id": "260660dc",
      "metadata": {
        "id": "260660dc"
      },
      "source": [
        "### In the Vertix DataFrame:\n",
        "- Rename the <b>IATA</b> columns to become <b>id</b>."
      ]
    },
    {
      "cell_type": "code",
      "execution_count": 47,
      "id": "42846969",
      "metadata": {
        "scrolled": false,
        "colab": {
          "base_uri": "https://localhost:8080/"
        },
        "id": "42846969",
        "outputId": "45a61f37-122e-4445-856e-db09447ec135"
      },
      "outputs": [
        {
          "output_type": "stream",
          "name": "stdout",
          "text": [
            "+-------------------+-----+-------+---+\n",
            "|               City|State|Country| id|\n",
            "+-------------------+-----+-------+---+\n",
            "|         Binghamton|   NY|    USA|BGM|\n",
            "|            Lebanon|   NH|    USA|LEB|\n",
            "|           Montreal|   PQ| Canada|YUL|\n",
            "|         Dillingham|   AK|    USA|DLG|\n",
            "|International Falls|   MN|    USA|INL|\n",
            "|         Wolf Point|   MT|    USA|OLF|\n",
            "|        New Orleans|   LA|    USA|MSY|\n",
            "|            Toronto|   ON| Canada|YTO|\n",
            "|            Spokane|   WA|    USA|GEG|\n",
            "|              Havre|   MT|    USA|HVR|\n",
            "|            Burbank|   CA|    USA|BUR|\n",
            "|      Orange County|   CA|    USA|SNA|\n",
            "|             Dryden|   ON| Canada|YHD|\n",
            "|         Fort Dodge|   IA|    USA|FOD|\n",
            "|          Green Bay|   WI|    USA|GRB|\n",
            "|        Great Falls|   MT|    USA|GTF|\n",
            "|              Homer|   AK|    USA|HOM|\n",
            "|        Idaho Falls|   ID|    USA|IDA|\n",
            "|      Sioux Lookout|   ON| Canada|YXL|\n",
            "|       Grand Rapids|   MI|    USA|GRR|\n",
            "+-------------------+-----+-------+---+\n",
            "only showing top 20 rows\n",
            "\n"
          ]
        }
      ],
      "source": [
        "vertex = vertex.withColumnRenamed('IATA','id')\n",
        "vertex.show()"
      ]
    },
    {
      "cell_type": "markdown",
      "id": "4b50a1fe",
      "metadata": {
        "id": "4b50a1fe"
      },
      "source": [
        "### Create GraphFrame from Vertix and Edges DataFrames"
      ]
    },
    {
      "cell_type": "code",
      "execution_count": 48,
      "id": "72be9d09",
      "metadata": {
        "id": "72be9d09"
      },
      "outputs": [],
      "source": [
        "g = GraphFrame(vertex,edges)"
      ]
    },
    {
      "cell_type": "code",
      "source": [
        "g.edges.show()"
      ],
      "metadata": {
        "colab": {
          "base_uri": "https://localhost:8080/"
        },
        "id": "E2V2QfM02WVk",
        "outputId": "07a6b1f8-caf0-48be-ab1a-53718169117a"
      },
      "id": "E2V2QfM02WVk",
      "execution_count": 111,
      "outputs": [
        {
          "output_type": "stream",
          "name": "stdout",
          "text": [
            "+-------+-----+--------+---+---+\n",
            "| tripid|delay|distance|src|dst|\n",
            "+-------+-----+--------+---+---+\n",
            "|1011245|    6|     602|ABE|ATL|\n",
            "|1020600|   -8|     369|ABE|DTW|\n",
            "|1021245|   -2|     602|ABE|ATL|\n",
            "|1020605|   -4|     602|ABE|ATL|\n",
            "|1031245|   -4|     602|ABE|ATL|\n",
            "|1030605|    0|     602|ABE|ATL|\n",
            "|1041243|   10|     602|ABE|ATL|\n",
            "|1040605|   28|     602|ABE|ATL|\n",
            "|1051245|   88|     602|ABE|ATL|\n",
            "|1050605|    9|     602|ABE|ATL|\n",
            "|1061215|   -6|     602|ABE|ATL|\n",
            "|1061725|   69|     602|ABE|ATL|\n",
            "|1061230|    0|     369|ABE|DTW|\n",
            "|1060625|   -3|     602|ABE|ATL|\n",
            "|1070600|    0|     369|ABE|DTW|\n",
            "|1071725|    0|     602|ABE|ATL|\n",
            "|1071230|    0|     369|ABE|DTW|\n",
            "|1070625|    0|     602|ABE|ATL|\n",
            "|1071219|    0|     569|ABE|ORD|\n",
            "|1080600|    0|     369|ABE|DTW|\n",
            "+-------+-----+--------+---+---+\n",
            "only showing top 20 rows\n",
            "\n"
          ]
        }
      ]
    },
    {
      "cell_type": "markdown",
      "id": "abd2ebc6",
      "metadata": {
        "id": "abd2ebc6"
      },
      "source": [
        "### Determine the number of airports"
      ]
    },
    {
      "cell_type": "code",
      "source": [
        "from pyspark.sql.functions import *"
      ],
      "metadata": {
        "id": "Wg0Uu89qhZLs"
      },
      "id": "Wg0Uu89qhZLs",
      "execution_count": 49,
      "outputs": []
    },
    {
      "cell_type": "code",
      "execution_count": 50,
      "id": "f38688c9",
      "metadata": {
        "id": "f38688c9",
        "colab": {
          "base_uri": "https://localhost:8080/"
        },
        "outputId": "2b865e22-d9de-4ba1-cc82-348e4ebbdf66"
      },
      "outputs": [
        {
          "output_type": "stream",
          "name": "stdout",
          "text": [
            "+------------------+\n",
            "|Number Of Airports|\n",
            "+------------------+\n",
            "|               524|\n",
            "+------------------+\n",
            "\n"
          ]
        }
      ],
      "source": [
        "g.vertices.select(count('id').alias('Number Of Airports')).show()"
      ]
    },
    {
      "cell_type": "markdown",
      "id": "435187a8",
      "metadata": {
        "id": "435187a8"
      },
      "source": [
        "### Determine the number of trips "
      ]
    },
    {
      "cell_type": "code",
      "source": [
        "g.edges.count()"
      ],
      "metadata": {
        "colab": {
          "base_uri": "https://localhost:8080/"
        },
        "id": "OPS3cRgtinAn",
        "outputId": "74f89088-40db-4a62-996f-2ac9d25b409c"
      },
      "id": "OPS3cRgtinAn",
      "execution_count": 51,
      "outputs": [
        {
          "output_type": "execute_result",
          "data": {
            "text/plain": [
              "1391578"
            ]
          },
          "metadata": {},
          "execution_count": 51
        }
      ]
    },
    {
      "cell_type": "code",
      "source": [
        "g.edges.select(count('*').alias('Number Of Trips')).show()"
      ],
      "metadata": {
        "colab": {
          "base_uri": "https://localhost:8080/"
        },
        "id": "Ufk6GTmVhuNx",
        "outputId": "c4f8e931-bbb8-4b8d-e784-32a5a8ec53f6"
      },
      "id": "Ufk6GTmVhuNx",
      "execution_count": 52,
      "outputs": [
        {
          "output_type": "stream",
          "name": "stdout",
          "text": [
            "+---------------+\n",
            "|Number Of Trips|\n",
            "+---------------+\n",
            "|        1391578|\n",
            "+---------------+\n",
            "\n"
          ]
        }
      ]
    },
    {
      "cell_type": "markdown",
      "id": "dec8731f",
      "metadata": {
        "id": "dec8731f"
      },
      "source": [
        "### What is the longest delay?"
      ]
    },
    {
      "cell_type": "code",
      "execution_count": 56,
      "id": "df3d6aac",
      "metadata": {
        "id": "df3d6aac"
      },
      "outputs": [],
      "source": [
        "edgs = g.edges"
      ]
    },
    {
      "cell_type": "code",
      "source": [
        "edgs.select(max('delay').alias('Maximum Delay')).show()"
      ],
      "metadata": {
        "colab": {
          "base_uri": "https://localhost:8080/"
        },
        "id": "KzELZAIGsz5v",
        "outputId": "ac5ef12f-1433-4b94-8906-696873c2275b"
      },
      "id": "KzELZAIGsz5v",
      "execution_count": 61,
      "outputs": [
        {
          "output_type": "stream",
          "name": "stdout",
          "text": [
            "+-------------+\n",
            "|Maximum Delay|\n",
            "+-------------+\n",
            "|         1642|\n",
            "+-------------+\n",
            "\n"
          ]
        }
      ]
    },
    {
      "cell_type": "markdown",
      "id": "202d888c",
      "metadata": {
        "id": "202d888c"
      },
      "source": [
        "### Find out the number of delayed flights vs. early flights (flights that departed before actual time)"
      ]
    },
    {
      "cell_type": "code",
      "source": [
        "g.edges.filter('delay > 0').count()"
      ],
      "metadata": {
        "colab": {
          "base_uri": "https://localhost:8080/"
        },
        "id": "5nVzFjC5mfQ6",
        "outputId": "03afec29-0bf1-446f-873c-72bdbab61d97"
      },
      "id": "5nVzFjC5mfQ6",
      "execution_count": 65,
      "outputs": [
        {
          "output_type": "execute_result",
          "data": {
            "text/plain": [
              "591727"
            ]
          },
          "metadata": {},
          "execution_count": 65
        }
      ]
    },
    {
      "cell_type": "code",
      "execution_count": 62,
      "id": "7cdd7ff7",
      "metadata": {
        "id": "7cdd7ff7",
        "colab": {
          "base_uri": "https://localhost:8080/"
        },
        "outputId": "e832a1b0-7646-41ca-c598-933f275dc4c9"
      },
      "outputs": [
        {
          "output_type": "execute_result",
          "data": {
            "text/plain": [
              "591727"
            ]
          },
          "metadata": {},
          "execution_count": 62
        }
      ],
      "source": [
        "edgs.filter('delay > 0 ').count()"
      ]
    },
    {
      "cell_type": "code",
      "source": [
        "edgs.filter('delay < 0').count()"
      ],
      "metadata": {
        "colab": {
          "base_uri": "https://localhost:8080/"
        },
        "id": "9_GuVtjxmUmL",
        "outputId": "5604a914-134a-49bf-8adb-4fe85182b6d9"
      },
      "id": "9_GuVtjxmUmL",
      "execution_count": 63,
      "outputs": [
        {
          "output_type": "execute_result",
          "data": {
            "text/plain": [
              "668729"
            ]
          },
          "metadata": {},
          "execution_count": 63
        }
      ]
    },
    {
      "cell_type": "markdown",
      "id": "30961bc3",
      "metadata": {
        "id": "30961bc3"
      },
      "source": [
        "### What flight destinations departing SFO are most likely to have significant delays? Select the top 10\n",
        "#### Hint: you should get the average delay for each destination for trips that depart from SFO only"
      ]
    },
    {
      "cell_type": "code",
      "execution_count": 100,
      "id": "afdc6842",
      "metadata": {
        "id": "afdc6842",
        "colab": {
          "base_uri": "https://localhost:8080/"
        },
        "outputId": "90110e43-be78-4773-d977-7ae4f5c9f809"
      },
      "outputs": [
        {
          "output_type": "stream",
          "name": "stdout",
          "text": [
            "+---+---+------------------+\n",
            "|src|dst|        avg(delay)|\n",
            "+---+---+------------------+\n",
            "|SFO|TUS|14.923913043478262|\n",
            "|SFO|BOI| 16.21123595505618|\n",
            "|SFO|MSY|           14.2125|\n",
            "|SFO|STL|         20.203125|\n",
            "|SFO|SMF|11.426984126984127|\n",
            "|SFO|MRY| 8.306818181818182|\n",
            "|SFO|EUG|13.691449814126393|\n",
            "|SFO|PIT|17.345454545454544|\n",
            "|SFO|MCI|18.254054054054055|\n",
            "|SFO|ASE|19.846153846153847|\n",
            "|SFO|RDD|11.555555555555555|\n",
            "|SFO|ANC|              17.0|\n",
            "|SFO|AUS| 13.96763202725724|\n",
            "|SFO|ORD|15.339675433687745|\n",
            "|SFO|CLT| 4.185779816513762|\n",
            "|SFO|MKE|  9.24390243902439|\n",
            "|SFO|LMT|5.0777777777777775|\n",
            "|SFO|DFW| 9.971256684491978|\n",
            "|SFO|SBP|13.530066815144766|\n",
            "|SFO|MCO|12.372972972972972|\n",
            "+---+---+------------------+\n",
            "only showing top 20 rows\n",
            "\n"
          ]
        }
      ],
      "source": [
        "sfo = g.edges.filter('src = \"SFO\"').groupBy(['src','dst']).avg('delay')\n",
        "sfo.show()"
      ]
    },
    {
      "cell_type": "code",
      "source": [
        "sfo.sort(desc('avg(delay)')).show(10)"
      ],
      "metadata": {
        "colab": {
          "base_uri": "https://localhost:8080/"
        },
        "id": "SfsYd3veoJk2",
        "outputId": "832f3470-3bce-4463-fcdf-b9ac31afee60"
      },
      "id": "SfsYd3veoJk2",
      "execution_count": 99,
      "outputs": [
        {
          "output_type": "stream",
          "name": "stdout",
          "text": [
            "+---+---+------------------+\n",
            "|src|dst|        avg(delay)|\n",
            "+---+---+------------------+\n",
            "|SFO|JAC| 30.78846153846154|\n",
            "|SFO|OKC|24.822222222222223|\n",
            "|SFO|SUN|22.696629213483146|\n",
            "|SFO|COS| 22.58888888888889|\n",
            "|SFO|SAT|             22.16|\n",
            "|SFO|STL|         20.203125|\n",
            "|SFO|HNL|19.982608695652175|\n",
            "|SFO|ASE|19.846153846153847|\n",
            "|SFO|CEC|19.089820359281436|\n",
            "|SFO|MDW|18.771929824561404|\n",
            "+---+---+------------------+\n",
            "only showing top 10 rows\n",
            "\n"
          ]
        }
      ]
    },
    {
      "cell_type": "markdown",
      "id": "71d46665",
      "metadata": {
        "id": "71d46665"
      },
      "source": [
        "### Find the Incoming connections to the airport sorted in Desc. order."
      ]
    },
    {
      "cell_type": "code",
      "execution_count": 103,
      "id": "c28925c3",
      "metadata": {
        "id": "c28925c3",
        "colab": {
          "base_uri": "https://localhost:8080/"
        },
        "outputId": "de1ab561-2065-4c84-f96c-5ffcb94cab15"
      },
      "outputs": [
        {
          "output_type": "stream",
          "name": "stdout",
          "text": [
            "+---+--------+\n",
            "| id|inDegree|\n",
            "+---+--------+\n",
            "|ATL|   90434|\n",
            "|DFW|   66050|\n",
            "|ORD|   61967|\n",
            "|LAX|   53601|\n",
            "|DEN|   50921|\n",
            "|IAH|   42700|\n",
            "|PHX|   39721|\n",
            "|SFO|   38988|\n",
            "|LAS|   32994|\n",
            "|CLT|   28388|\n",
            "|MCO|   27959|\n",
            "|EWR|   27652|\n",
            "|LGA|   25469|\n",
            "|BOS|   25360|\n",
            "|SLC|   25323|\n",
            "|JFK|   23484|\n",
            "|DTW|   23310|\n",
            "|SEA|   23074|\n",
            "|MSP|   22385|\n",
            "|MIA|   21805|\n",
            "+---+--------+\n",
            "only showing top 20 rows\n",
            "\n"
          ]
        }
      ],
      "source": [
        "g.inDegrees.sort(desc('inDegree')).show()"
      ]
    },
    {
      "cell_type": "markdown",
      "id": "d1b6509d",
      "metadata": {
        "id": "d1b6509d"
      },
      "source": [
        "### Find the Outgoing connections from the airport sorted in Desc. order."
      ]
    },
    {
      "cell_type": "code",
      "execution_count": 104,
      "id": "631af51d",
      "metadata": {
        "id": "631af51d",
        "colab": {
          "base_uri": "https://localhost:8080/"
        },
        "outputId": "ca287a48-4d5d-47db-89d7-2c120caf9eb5"
      },
      "outputs": [
        {
          "output_type": "stream",
          "name": "stdout",
          "text": [
            "+---+---------+\n",
            "| id|outDegree|\n",
            "+---+---------+\n",
            "|ATL|    91484|\n",
            "|DFW|    68482|\n",
            "|ORD|    64228|\n",
            "|LAX|    54086|\n",
            "|DEN|    53148|\n",
            "|IAH|    43361|\n",
            "|PHX|    40155|\n",
            "|SFO|    39483|\n",
            "|LAS|    33107|\n",
            "|CLT|    28402|\n",
            "|MCO|    28313|\n",
            "|EWR|    27656|\n",
            "|SLC|    25868|\n",
            "|LGA|    25458|\n",
            "|BOS|    25348|\n",
            "|MSP|    24031|\n",
            "|JFK|    23572|\n",
            "|DTW|    23421|\n",
            "|SEA|    23078|\n",
            "|MIA|    21817|\n",
            "+---+---------+\n",
            "only showing top 20 rows\n",
            "\n"
          ]
        }
      ],
      "source": [
        "g.outDegrees.sort(desc('outDegree')).show()"
      ]
    },
    {
      "cell_type": "markdown",
      "id": "fbec58ce",
      "metadata": {
        "id": "fbec58ce"
      },
      "source": [
        "### Use motif finding to answer this question: which delays could we blame on SFO?\n",
        "#### Hint: this practically means that SFO is a transit station"
      ]
    },
    {
      "cell_type": "code",
      "execution_count": 105,
      "id": "db17f3df",
      "metadata": {
        "id": "db17f3df",
        "colab": {
          "base_uri": "https://localhost:8080/"
        },
        "outputId": "c414990d-5728-4653-e193-b576fd338874"
      },
      "outputs": [
        {
          "output_type": "stream",
          "name": "stdout",
          "text": [
            "+--------------------+--------------------+--------------------+--------------------+--------------------+\n",
            "|                  v1|                  e1|                  v2|                  e2|                  v3|\n",
            "+--------------------+--------------------+--------------------+--------------------+--------------------+\n",
            "|[Atlanta, GA, USA...|[1012110, -3, 369...|[New Orleans, LA,...|[1011335, -4, 389...|[Dallas, TX, USA,...|\n",
            "|[Atlanta, GA, USA...|[1012110, -3, 369...|[New Orleans, LA,...|[1011550, -2, 389...|[Dallas, TX, USA,...|\n",
            "|[Atlanta, GA, USA...|[1012110, -3, 369...|[New Orleans, LA,...|[1011845, -12, 58...|[Miami, FL, USA, ...|\n",
            "|[Atlanta, GA, USA...|[1012110, -3, 369...|[New Orleans, LA,...|[1010825, -1, 389...|[Dallas, TX, USA,...|\n",
            "|[Atlanta, GA, USA...|[1012110, -3, 369...|[New Orleans, LA,...|[1011505, -4, 586...|[Miami, FL, USA, ...|\n",
            "|[Atlanta, GA, USA...|[1012110, -3, 369...|[New Orleans, LA,...|[1010650, -7, 389...|[Dallas, TX, USA,...|\n",
            "|[Atlanta, GA, USA...|[1012110, -3, 369...|[New Orleans, LA,...|[1011010, -3, 389...|[Dallas, TX, USA,...|\n",
            "|[Atlanta, GA, USA...|[1012110, -3, 369...|[New Orleans, LA,...|[1011910, 19, 389...|[Dallas, TX, USA,...|\n",
            "|[Atlanta, GA, USA...|[1012110, -3, 369...|[New Orleans, LA,...|[1011230, -8, 586...|[Miami, FL, USA, ...|\n",
            "|[Atlanta, GA, USA...|[1012110, -3, 369...|[New Orleans, LA,...|[1010600, -4, 586...|[Miami, FL, USA, ...|\n",
            "|[Atlanta, GA, USA...|[1012110, -3, 369...|[New Orleans, LA,...|[1021335, 10, 389...|[Dallas, TX, USA,...|\n",
            "|[Atlanta, GA, USA...|[1012110, -3, 369...|[New Orleans, LA,...|[1021550, 81, 389...|[Dallas, TX, USA,...|\n",
            "|[Atlanta, GA, USA...|[1012110, -3, 369...|[New Orleans, LA,...|[1021845, -4, 586...|[Miami, FL, USA, ...|\n",
            "|[Atlanta, GA, USA...|[1012110, -3, 369...|[New Orleans, LA,...|[1020825, 0, 389,...|[Dallas, TX, USA,...|\n",
            "|[Atlanta, GA, USA...|[1012110, -3, 369...|[New Orleans, LA,...|[1021505, 18, 586...|[Miami, FL, USA, ...|\n",
            "|[Atlanta, GA, USA...|[1012110, -3, 369...|[New Orleans, LA,...|[1020650, -1, 389...|[Dallas, TX, USA,...|\n",
            "|[Atlanta, GA, USA...|[1012110, -3, 369...|[New Orleans, LA,...|[1021010, 9, 389,...|[Dallas, TX, USA,...|\n",
            "|[Atlanta, GA, USA...|[1012110, -3, 369...|[New Orleans, LA,...|[1021910, -5, 389...|[Dallas, TX, USA,...|\n",
            "|[Atlanta, GA, USA...|[1012110, -3, 369...|[New Orleans, LA,...|[1021230, -1, 586...|[Miami, FL, USA, ...|\n",
            "|[Atlanta, GA, USA...|[1012110, -3, 369...|[New Orleans, LA,...|[1020600, -2, 586...|[Miami, FL, USA, ...|\n",
            "+--------------------+--------------------+--------------------+--------------------+--------------------+\n",
            "only showing top 20 rows\n",
            "\n"
          ]
        }
      ],
      "source": [
        "triangle = g.find('(v1)-[e1]->(v2);(v2)-[e2]->(v3)')\n",
        "triangle.show()"
      ]
    },
    {
      "cell_type": "code",
      "source": [
        "triangle.filter('v2.id = \"SFO\"').filter('e1.tripid < e2.tripid').show()"
      ],
      "metadata": {
        "colab": {
          "base_uri": "https://localhost:8080/"
        },
        "id": "aukPnP5VzNZ1",
        "outputId": "aedadc65-203c-43af-ab42-e24f56a8e160"
      },
      "id": "aukPnP5VzNZ1",
      "execution_count": 113,
      "outputs": [
        {
          "output_type": "stream",
          "name": "stdout",
          "text": [
            "+--------------------+--------------------+--------------------+--------------------+--------------------+\n",
            "|                  v1|                  e1|                  v2|                  e2|                  v3|\n",
            "+--------------------+--------------------+--------------------+--------------------+--------------------+\n",
            "|[Albuquerque, NM,...|[1010600, -7, 779...|[San Francisco, C...|[1011250, 55, 224...|[New York, NY, US...|\n",
            "|[Albuquerque, NM,...|[1010600, -7, 779...|[San Francisco, C...|[1012230, 0, 2247...|[New York, NY, US...|\n",
            "|[Albuquerque, NM,...|[1010600, -7, 779...|[San Francisco, C...|[1010705, -7, 224...|[New York, NY, US...|\n",
            "|[Albuquerque, NM,...|[1010600, -7, 779...|[San Francisco, C...|[1010620, -3, 224...|[Miami, FL, USA, ...|\n",
            "|[Albuquerque, NM,...|[1010600, -7, 779...|[San Francisco, C...|[1010915, -3, 293...|[Los Angeles, CA,...|\n",
            "|[Albuquerque, NM,...|[1010600, -7, 779...|[San Francisco, C...|[1011005, -8, 127...|[Dallas, TX, USA,...|\n",
            "|[Albuquerque, NM,...|[1010600, -7, 779...|[San Francisco, C...|[1011800, 0, 1604...|[Chicago, IL, USA...|\n",
            "|[Albuquerque, NM,...|[1010600, -7, 779...|[San Francisco, C...|[1011740, -7, 293...|[Los Angeles, CA,...|\n",
            "|[Albuquerque, NM,...|[1010600, -7, 779...|[San Francisco, C...|[1012015, -7, 293...|[Los Angeles, CA,...|\n",
            "|[Albuquerque, NM,...|[1010600, -7, 779...|[San Francisco, C...|[1012110, -1, 224...|[Miami, FL, USA, ...|\n",
            "|[Albuquerque, NM,...|[1010600, -7, 779...|[San Francisco, C...|[1011610, 134, 12...|[Dallas, TX, USA,...|\n",
            "|[Albuquerque, NM,...|[1010600, -7, 779...|[San Francisco, C...|[1011240, -6, 224...|[Miami, FL, USA, ...|\n",
            "|[Albuquerque, NM,...|[1010600, -7, 779...|[San Francisco, C...|[1010755, -3, 127...|[Dallas, TX, USA,...|\n",
            "|[Albuquerque, NM,...|[1010600, -7, 779...|[San Francisco, C...|[1010705, -6, 293...|[Los Angeles, CA,...|\n",
            "|[Albuquerque, NM,...|[1010600, -7, 779...|[San Francisco, C...|[1010925, -3, 160...|[Chicago, IL, USA...|\n",
            "|[Albuquerque, NM,...|[1010600, -7, 779...|[San Francisco, C...|[1011105, -8, 127...|[Dallas, TX, USA,...|\n",
            "|[Albuquerque, NM,...|[1010600, -7, 779...|[San Francisco, C...|[1012330, 32, 160...|[Chicago, IL, USA...|\n",
            "|[Albuquerque, NM,...|[1010600, -7, 779...|[San Francisco, C...|[1011330, 3, 1273...|[Dallas, TX, USA,...|\n",
            "|[Albuquerque, NM,...|[1010600, -7, 779...|[San Francisco, C...|[1010650, -3, 127...|[Dallas, TX, USA,...|\n",
            "|[Albuquerque, NM,...|[1010600, -7, 779...|[San Francisco, C...|[1011110, -5, 160...|[Chicago, IL, USA...|\n",
            "+--------------------+--------------------+--------------------+--------------------+--------------------+\n",
            "only showing top 20 rows\n",
            "\n"
          ]
        }
      ]
    },
    {
      "cell_type": "markdown",
      "id": "cc1ece96",
      "metadata": {
        "id": "cc1ece96"
      },
      "source": [
        "### Determine Airport Ranking in Desc. order using PageRank algorithm"
      ]
    },
    {
      "cell_type": "code",
      "execution_count": 115,
      "id": "f754d545",
      "metadata": {
        "id": "f754d545"
      },
      "outputs": [],
      "source": [
        "pr = g.pageRank(maxIter= 3)"
      ]
    },
    {
      "cell_type": "code",
      "source": [
        "pr.vertices.sort(desc('pagerank')).show()"
      ],
      "metadata": {
        "colab": {
          "base_uri": "https://localhost:8080/"
        },
        "id": "yJHb2zOF4WCX",
        "outputId": "f73e929a-e563-4432-bf29-e2a77459f3c1"
      },
      "id": "yJHb2zOF4WCX",
      "execution_count": 119,
      "outputs": [
        {
          "output_type": "stream",
          "name": "stdout",
          "text": [
            "+--------------+-----+-------+---+------------------+\n",
            "|          City|State|Country| id|          pagerank|\n",
            "+--------------+-----+-------+---+------------------+\n",
            "|       Atlanta|   GA|    USA|ATL|35.605263744382604|\n",
            "|        Dallas|   TX|    USA|DFW|25.647472133009476|\n",
            "|       Chicago|   IL|    USA|ORD| 24.40566620587968|\n",
            "|        Denver|   CO|    USA|DEN|17.241685512286086|\n",
            "|       Houston|   TX|    USA|IAH|  14.4925835065425|\n",
            "|   Los Angeles|   CA|    USA|LAX|13.812051256434101|\n",
            "| San Francisco|   CA|    USA|SFO|11.352607546983776|\n",
            "|       Phoenix|   AZ|    USA|PHX| 10.52548731539901|\n",
            "|Salt Lake City|   UT|    USA|SLC|10.506004098870957|\n",
            "|     Las Vegas|   NV|    USA|LAS| 8.408451915634176|\n",
            "|       Seattle|   WA|    USA|SEA| 7.530294879937547|\n",
            "|        Newark|   NJ|    USA|EWR| 7.219522198674636|\n",
            "|       Detroit|   MI|    USA|DTW| 7.083286560333701|\n",
            "|       Orlando|   FL|    USA|MCO| 6.980986825250971|\n",
            "|   Minneapolis|   MN|    USA|MSP| 6.925286688278695|\n",
            "|     Charlotte|   NC|    USA|CLT| 6.882575844221331|\n",
            "|      New York|   NY|    USA|LGA|6.4877549288564405|\n",
            "|        Boston|   MA|    USA|BOS| 5.906105798784877|\n",
            "|     Baltimore|   MD|    USA|BWI| 5.738986275538622|\n",
            "|      New York|   NY|    USA|JFK| 5.643535951123589|\n",
            "+--------------+-----+-------+---+------------------+\n",
            "only showing top 20 rows\n",
            "\n"
          ]
        }
      ]
    },
    {
      "cell_type": "code",
      "source": [
        "pr.edges.show()"
      ],
      "metadata": {
        "colab": {
          "base_uri": "https://localhost:8080/"
        },
        "id": "bFH7yAfM07DP",
        "outputId": "04d29a0c-45a7-4d58-da8c-0fdde9276372"
      },
      "id": "bFH7yAfM07DP",
      "execution_count": 117,
      "outputs": [
        {
          "output_type": "stream",
          "name": "stdout",
          "text": [
            "+-------+-----+--------+---+---+--------------------+\n",
            "| tripid|delay|distance|src|dst|              weight|\n",
            "+-------+-----+--------+---+---+--------------------+\n",
            "|1011450|   -4|    1451|MSY|LAX|9.730466089325679E-5|\n",
            "|1021445|    8|    1451|MSY|LAX|9.730466089325679E-5|\n",
            "|1020700|   -1|    1451|MSY|LAX|9.730466089325679E-5|\n",
            "|1021701|   15|    1451|MSY|LAX|9.730466089325679E-5|\n",
            "|1031445|   22|    1451|MSY|LAX|9.730466089325679E-5|\n",
            "|1030700|   -2|    1451|MSY|LAX|9.730466089325679E-5|\n",
            "|1031701|   33|    1451|MSY|LAX|9.730466089325679E-5|\n",
            "|1040700|   -4|    1451|MSY|LAX|9.730466089325679E-5|\n",
            "|1041701|    7|    1451|MSY|LAX|9.730466089325679E-5|\n",
            "|1051445|  480|    1451|MSY|LAX|9.730466089325679E-5|\n",
            "|1051701|   30|    1451|MSY|LAX|9.730466089325679E-5|\n",
            "|1050700|   -4|    1451|MSY|LAX|9.730466089325679E-5|\n",
            "|1071523|    1|    1451|MSY|LAX|9.730466089325679E-5|\n",
            "|1081523|    2|    1451|MSY|LAX|9.730466089325679E-5|\n",
            "|1091523|    7|    1451|MSY|LAX|9.730466089325679E-5|\n",
            "|1101523|   -2|    1451|MSY|LAX|9.730466089325679E-5|\n",
            "|1110731|   -4|    1451|MSY|LAX|9.730466089325679E-5|\n",
            "|1121732|   -6|    1451|MSY|LAX|9.730466089325679E-5|\n",
            "|1121523|   -2|    1451|MSY|LAX|9.730466089325679E-5|\n",
            "|1131732|   -9|    1451|MSY|LAX|9.730466089325679E-5|\n",
            "+-------+-----+--------+---+---+--------------------+\n",
            "only showing top 20 rows\n",
            "\n"
          ]
        }
      ]
    },
    {
      "cell_type": "markdown",
      "id": "fe1e7648",
      "metadata": {
        "id": "fe1e7648"
      },
      "source": [
        "## Determine the most popular flights (single city hops)"
      ]
    },
    {
      "cell_type": "code",
      "execution_count": 120,
      "id": "da4b3306",
      "metadata": {
        "id": "da4b3306"
      },
      "outputs": [],
      "source": [
        "flights = g.find('(v1)-[e1]->(v2)')"
      ]
    },
    {
      "cell_type": "code",
      "source": [
        "flights.groupBy(['v1','v2']).count().sort(desc('count')).show()"
      ],
      "metadata": {
        "colab": {
          "base_uri": "https://localhost:8080/"
        },
        "id": "msf1ifCu4vc6",
        "outputId": "a412ff57-a4ea-48b6-b2a3-6932f4c02b39"
      },
      "id": "msf1ifCu4vc6",
      "execution_count": 124,
      "outputs": [
        {
          "output_type": "stream",
          "name": "stdout",
          "text": [
            "+--------------------+--------------------+-----+\n",
            "|                  v1|                  v2|count|\n",
            "+--------------------+--------------------+-----+\n",
            "|[San Francisco, C...|[Los Angeles, CA,...| 3232|\n",
            "|[Los Angeles, CA,...|[San Francisco, C...| 3198|\n",
            "|[Las Vegas, NV, U...|[Los Angeles, CA,...| 3016|\n",
            "|[Los Angeles, CA,...|[Las Vegas, NV, U...| 2964|\n",
            "|[New York, NY, US...|[Los Angeles, CA,...| 2720|\n",
            "|[Los Angeles, CA,...|[New York, NY, US...| 2719|\n",
            "|[Atlanta, GA, USA...|[New York, NY, US...| 2501|\n",
            "|[New York, NY, US...|[Atlanta, GA, USA...| 2500|\n",
            "|[Los Angeles, CA,...|[Phoenix, AZ, USA...| 2394|\n",
            "|[Phoenix, AZ, USA...|[Los Angeles, CA,...| 2387|\n",
            "|[Honolulu, Oahu, ...|[Kahului, Maui, H...| 2380|\n",
            "|[Kahului, Maui, H...|[Honolulu, Oahu, ...| 2379|\n",
            "|[Los Angeles, CA,...|[San Diego, CA, U...| 2215|\n",
            "|[San Diego, CA, U...|[Los Angeles, CA,...| 2214|\n",
            "|[San Jose, CA, US...|[Los Angeles, CA,...| 2208|\n",
            "|[Los Angeles, CA,...|[San Jose, CA, US...| 2201|\n",
            "|[Atlanta, GA, USA...|[Orlando, FL, USA...| 2136|\n",
            "|[Orlando, FL, USA...|[Atlanta, GA, USA...| 2090|\n",
            "|[San Francisco, C...|[New York, NY, US...| 2084|\n",
            "|[New York, NY, US...|[San Francisco, C...| 2084|\n",
            "+--------------------+--------------------+-----+\n",
            "only showing top 20 rows\n",
            "\n"
          ]
        }
      ]
    },
    {
      "cell_type": "markdown",
      "id": "8ebb5e18",
      "metadata": {
        "id": "8ebb5e18"
      },
      "source": [
        "### Find and Save a Subragph that obtained from the following pattern:\n",
        "#### The flight starts from an airport and return back to the same airport through 2 other airports."
      ]
    },
    {
      "cell_type": "code",
      "execution_count": 125,
      "id": "00361946",
      "metadata": {
        "id": "00361946"
      },
      "outputs": [],
      "source": [
        "subGraph = g.find('(v1)-[e1]->(v2);(v2)-[e2]->(v3);(v3)-[e3]->(v1)')"
      ]
    },
    {
      "cell_type": "code",
      "source": [
        "subGraph.show()"
      ],
      "metadata": {
        "colab": {
          "base_uri": "https://localhost:8080/",
          "height": 320
        },
        "id": "2GIEAfU56DFO",
        "outputId": "2d9af7aa-921c-4aa9-eb43-98797a302819"
      },
      "id": "2GIEAfU56DFO",
      "execution_count": 126,
      "outputs": [
        {
          "output_type": "error",
          "ename": "KeyboardInterrupt",
          "evalue": "ignored",
          "traceback": [
            "\u001b[0;31m---------------------------------------------------------------------------\u001b[0m",
            "\u001b[0;31mKeyboardInterrupt\u001b[0m                         Traceback (most recent call last)",
            "\u001b[0;32m<ipython-input-126-f449820340c1>\u001b[0m in \u001b[0;36m<module>\u001b[0;34m()\u001b[0m\n\u001b[0;32m----> 1\u001b[0;31m \u001b[0msubGraph\u001b[0m\u001b[0;34m.\u001b[0m\u001b[0mshow\u001b[0m\u001b[0;34m(\u001b[0m\u001b[0;34m)\u001b[0m\u001b[0;34m\u001b[0m\u001b[0;34m\u001b[0m\u001b[0m\n\u001b[0m",
            "\u001b[0;32m/content/spark-3.0.2-bin-hadoop2.7/python/pyspark/sql/dataframe.py\u001b[0m in \u001b[0;36mshow\u001b[0;34m(self, n, truncate, vertical)\u001b[0m\n\u001b[1;32m    438\u001b[0m         \"\"\"\n\u001b[1;32m    439\u001b[0m         \u001b[0;32mif\u001b[0m \u001b[0misinstance\u001b[0m\u001b[0;34m(\u001b[0m\u001b[0mtruncate\u001b[0m\u001b[0;34m,\u001b[0m \u001b[0mbool\u001b[0m\u001b[0;34m)\u001b[0m \u001b[0;32mand\u001b[0m \u001b[0mtruncate\u001b[0m\u001b[0;34m:\u001b[0m\u001b[0;34m\u001b[0m\u001b[0;34m\u001b[0m\u001b[0m\n\u001b[0;32m--> 440\u001b[0;31m             \u001b[0mprint\u001b[0m\u001b[0;34m(\u001b[0m\u001b[0mself\u001b[0m\u001b[0;34m.\u001b[0m\u001b[0m_jdf\u001b[0m\u001b[0;34m.\u001b[0m\u001b[0mshowString\u001b[0m\u001b[0;34m(\u001b[0m\u001b[0mn\u001b[0m\u001b[0;34m,\u001b[0m \u001b[0;36m20\u001b[0m\u001b[0;34m,\u001b[0m \u001b[0mvertical\u001b[0m\u001b[0;34m)\u001b[0m\u001b[0;34m)\u001b[0m\u001b[0;34m\u001b[0m\u001b[0;34m\u001b[0m\u001b[0m\n\u001b[0m\u001b[1;32m    441\u001b[0m         \u001b[0;32melse\u001b[0m\u001b[0;34m:\u001b[0m\u001b[0;34m\u001b[0m\u001b[0;34m\u001b[0m\u001b[0m\n\u001b[1;32m    442\u001b[0m             \u001b[0mprint\u001b[0m\u001b[0;34m(\u001b[0m\u001b[0mself\u001b[0m\u001b[0;34m.\u001b[0m\u001b[0m_jdf\u001b[0m\u001b[0;34m.\u001b[0m\u001b[0mshowString\u001b[0m\u001b[0;34m(\u001b[0m\u001b[0mn\u001b[0m\u001b[0;34m,\u001b[0m \u001b[0mint\u001b[0m\u001b[0;34m(\u001b[0m\u001b[0mtruncate\u001b[0m\u001b[0;34m)\u001b[0m\u001b[0;34m,\u001b[0m \u001b[0mvertical\u001b[0m\u001b[0;34m)\u001b[0m\u001b[0;34m)\u001b[0m\u001b[0;34m\u001b[0m\u001b[0;34m\u001b[0m\u001b[0m\n",
            "\u001b[0;32m/content/spark-3.0.2-bin-hadoop2.7/python/lib/py4j-0.10.9-src.zip/py4j/java_gateway.py\u001b[0m in \u001b[0;36m__call__\u001b[0;34m(self, *args)\u001b[0m\n\u001b[1;32m   1301\u001b[0m             \u001b[0mproto\u001b[0m\u001b[0;34m.\u001b[0m\u001b[0mEND_COMMAND_PART\u001b[0m\u001b[0;34m\u001b[0m\u001b[0;34m\u001b[0m\u001b[0m\n\u001b[1;32m   1302\u001b[0m \u001b[0;34m\u001b[0m\u001b[0m\n\u001b[0;32m-> 1303\u001b[0;31m         \u001b[0manswer\u001b[0m \u001b[0;34m=\u001b[0m \u001b[0mself\u001b[0m\u001b[0;34m.\u001b[0m\u001b[0mgateway_client\u001b[0m\u001b[0;34m.\u001b[0m\u001b[0msend_command\u001b[0m\u001b[0;34m(\u001b[0m\u001b[0mcommand\u001b[0m\u001b[0;34m)\u001b[0m\u001b[0;34m\u001b[0m\u001b[0;34m\u001b[0m\u001b[0m\n\u001b[0m\u001b[1;32m   1304\u001b[0m         return_value = get_return_value(\n\u001b[1;32m   1305\u001b[0m             answer, self.gateway_client, self.target_id, self.name)\n",
            "\u001b[0;32m/content/spark-3.0.2-bin-hadoop2.7/python/lib/py4j-0.10.9-src.zip/py4j/java_gateway.py\u001b[0m in \u001b[0;36msend_command\u001b[0;34m(self, command, retry, binary)\u001b[0m\n\u001b[1;32m   1031\u001b[0m         \u001b[0mconnection\u001b[0m \u001b[0;34m=\u001b[0m \u001b[0mself\u001b[0m\u001b[0;34m.\u001b[0m\u001b[0m_get_connection\u001b[0m\u001b[0;34m(\u001b[0m\u001b[0;34m)\u001b[0m\u001b[0;34m\u001b[0m\u001b[0;34m\u001b[0m\u001b[0m\n\u001b[1;32m   1032\u001b[0m         \u001b[0;32mtry\u001b[0m\u001b[0;34m:\u001b[0m\u001b[0;34m\u001b[0m\u001b[0;34m\u001b[0m\u001b[0m\n\u001b[0;32m-> 1033\u001b[0;31m             \u001b[0mresponse\u001b[0m \u001b[0;34m=\u001b[0m \u001b[0mconnection\u001b[0m\u001b[0;34m.\u001b[0m\u001b[0msend_command\u001b[0m\u001b[0;34m(\u001b[0m\u001b[0mcommand\u001b[0m\u001b[0;34m)\u001b[0m\u001b[0;34m\u001b[0m\u001b[0;34m\u001b[0m\u001b[0m\n\u001b[0m\u001b[1;32m   1034\u001b[0m             \u001b[0;32mif\u001b[0m \u001b[0mbinary\u001b[0m\u001b[0;34m:\u001b[0m\u001b[0;34m\u001b[0m\u001b[0;34m\u001b[0m\u001b[0m\n\u001b[1;32m   1035\u001b[0m                 \u001b[0;32mreturn\u001b[0m \u001b[0mresponse\u001b[0m\u001b[0;34m,\u001b[0m \u001b[0mself\u001b[0m\u001b[0;34m.\u001b[0m\u001b[0m_create_connection_guard\u001b[0m\u001b[0;34m(\u001b[0m\u001b[0mconnection\u001b[0m\u001b[0;34m)\u001b[0m\u001b[0;34m\u001b[0m\u001b[0;34m\u001b[0m\u001b[0m\n",
            "\u001b[0;32m/content/spark-3.0.2-bin-hadoop2.7/python/lib/py4j-0.10.9-src.zip/py4j/java_gateway.py\u001b[0m in \u001b[0;36msend_command\u001b[0;34m(self, command)\u001b[0m\n\u001b[1;32m   1198\u001b[0m \u001b[0;34m\u001b[0m\u001b[0m\n\u001b[1;32m   1199\u001b[0m         \u001b[0;32mtry\u001b[0m\u001b[0;34m:\u001b[0m\u001b[0;34m\u001b[0m\u001b[0;34m\u001b[0m\u001b[0m\n\u001b[0;32m-> 1200\u001b[0;31m             \u001b[0manswer\u001b[0m \u001b[0;34m=\u001b[0m \u001b[0msmart_decode\u001b[0m\u001b[0;34m(\u001b[0m\u001b[0mself\u001b[0m\u001b[0;34m.\u001b[0m\u001b[0mstream\u001b[0m\u001b[0;34m.\u001b[0m\u001b[0mreadline\u001b[0m\u001b[0;34m(\u001b[0m\u001b[0;34m)\u001b[0m\u001b[0;34m[\u001b[0m\u001b[0;34m:\u001b[0m\u001b[0;34m-\u001b[0m\u001b[0;36m1\u001b[0m\u001b[0;34m]\u001b[0m\u001b[0;34m)\u001b[0m\u001b[0;34m\u001b[0m\u001b[0;34m\u001b[0m\u001b[0m\n\u001b[0m\u001b[1;32m   1201\u001b[0m             \u001b[0mlogger\u001b[0m\u001b[0;34m.\u001b[0m\u001b[0mdebug\u001b[0m\u001b[0;34m(\u001b[0m\u001b[0;34m\"Answer received: {0}\"\u001b[0m\u001b[0;34m.\u001b[0m\u001b[0mformat\u001b[0m\u001b[0;34m(\u001b[0m\u001b[0manswer\u001b[0m\u001b[0;34m)\u001b[0m\u001b[0;34m)\u001b[0m\u001b[0;34m\u001b[0m\u001b[0;34m\u001b[0m\u001b[0m\n\u001b[1;32m   1202\u001b[0m             \u001b[0;32mif\u001b[0m \u001b[0manswer\u001b[0m\u001b[0;34m.\u001b[0m\u001b[0mstartswith\u001b[0m\u001b[0;34m(\u001b[0m\u001b[0mproto\u001b[0m\u001b[0;34m.\u001b[0m\u001b[0mRETURN_MESSAGE\u001b[0m\u001b[0;34m)\u001b[0m\u001b[0;34m:\u001b[0m\u001b[0;34m\u001b[0m\u001b[0;34m\u001b[0m\u001b[0m\n",
            "\u001b[0;32m/usr/lib/python3.7/socket.py\u001b[0m in \u001b[0;36mreadinto\u001b[0;34m(self, b)\u001b[0m\n\u001b[1;32m    587\u001b[0m         \u001b[0;32mwhile\u001b[0m \u001b[0;32mTrue\u001b[0m\u001b[0;34m:\u001b[0m\u001b[0;34m\u001b[0m\u001b[0;34m\u001b[0m\u001b[0m\n\u001b[1;32m    588\u001b[0m             \u001b[0;32mtry\u001b[0m\u001b[0;34m:\u001b[0m\u001b[0;34m\u001b[0m\u001b[0;34m\u001b[0m\u001b[0m\n\u001b[0;32m--> 589\u001b[0;31m                 \u001b[0;32mreturn\u001b[0m \u001b[0mself\u001b[0m\u001b[0;34m.\u001b[0m\u001b[0m_sock\u001b[0m\u001b[0;34m.\u001b[0m\u001b[0mrecv_into\u001b[0m\u001b[0;34m(\u001b[0m\u001b[0mb\u001b[0m\u001b[0;34m)\u001b[0m\u001b[0;34m\u001b[0m\u001b[0;34m\u001b[0m\u001b[0m\n\u001b[0m\u001b[1;32m    590\u001b[0m             \u001b[0;32mexcept\u001b[0m \u001b[0mtimeout\u001b[0m\u001b[0;34m:\u001b[0m\u001b[0;34m\u001b[0m\u001b[0;34m\u001b[0m\u001b[0m\n\u001b[1;32m    591\u001b[0m                 \u001b[0mself\u001b[0m\u001b[0;34m.\u001b[0m\u001b[0m_timeout_occurred\u001b[0m \u001b[0;34m=\u001b[0m \u001b[0;32mTrue\u001b[0m\u001b[0;34m\u001b[0m\u001b[0;34m\u001b[0m\u001b[0m\n",
            "\u001b[0;31mKeyboardInterrupt\u001b[0m: "
          ]
        }
      ]
    },
    {
      "cell_type": "code",
      "source": [
        "subGraph.write.csv('subGraph')"
      ],
      "metadata": {
        "id": "OQgCMppL_KOW"
      },
      "id": "OQgCMppL_KOW",
      "execution_count": null,
      "outputs": []
    },
    {
      "cell_type": "code",
      "source": [
        "# subGraph.vertices.write.parquet(\"vertices\")\n",
        "# subGraph.edges.write.parquet(\"edges\")"
      ],
      "metadata": {
        "id": "AAwKxA746G1o"
      },
      "id": "AAwKxA746G1o",
      "execution_count": null,
      "outputs": []
    }
  ],
  "metadata": {
    "kernelspec": {
      "display_name": "Python 3 (ipykernel)",
      "language": "python",
      "name": "python3"
    },
    "language_info": {
      "codemirror_mode": {
        "name": "ipython",
        "version": 3
      },
      "file_extension": ".py",
      "mimetype": "text/x-python",
      "name": "python",
      "nbconvert_exporter": "python",
      "pygments_lexer": "ipython3",
      "version": "3.9.12"
    },
    "colab": {
      "name": "GraphFrams_P.S._Student.ipynb",
      "provenance": [],
      "collapsed_sections": []
    }
  },
  "nbformat": 4,
  "nbformat_minor": 5
}